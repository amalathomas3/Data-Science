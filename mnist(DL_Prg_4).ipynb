{
  "nbformat": 4,
  "nbformat_minor": 0,
  "metadata": {
    "colab": {
      "name": "mnist(DL Prg.4).ipynb",
      "provenance": []
    },
    "kernelspec": {
      "name": "python3",
      "display_name": "Python 3"
    },
    "language_info": {
      "name": "python"
    }
  },
  "cells": [
    {
      "cell_type": "code",
      "execution_count": null,
      "metadata": {
        "colab": {
          "base_uri": "https://localhost:8080/",
          "height": 684
        },
        "id": "UoizY-1_wJFB",
        "outputId": "64ea05df-33d8-4467-cb7b-2756c3f5ddbc"
      },
      "outputs": [
        {
          "output_type": "stream",
          "name": "stdout",
          "text": [
            "Model: \"sequential_2\"\n",
            "_________________________________________________________________\n",
            " Layer (type)                Output Shape              Param #   \n",
            "=================================================================\n",
            " dense_8 (Dense)             (None, 50)                39250     \n",
            "                                                                 \n",
            " dense_9 (Dense)             (None, 100)               5100      \n",
            "                                                                 \n",
            " dense_10 (Dense)            (None, 70)                7070      \n",
            "                                                                 \n",
            " dense_11 (Dense)            (None, 10)                710       \n",
            "                                                                 \n",
            "=================================================================\n",
            "Total params: 52,130\n",
            "Trainable params: 52,130\n",
            "Non-trainable params: 0\n",
            "_________________________________________________________________\n",
            "3750/3750 [==============================] - 9s 2ms/step - loss: 0.2438 - accuracy: 0.9264\n",
            "313/313 [==============================] - 1s 2ms/step - loss: 0.1261 - accuracy: 0.9619\n",
            "digit is  [4.7368616e-05 1.2685151e-05 8.1608072e-04 2.6088171e-03 1.0515733e-06\n",
            " 1.3939469e-04 9.7293260e-08 9.9574077e-01 3.0197276e-04 3.3177147e-04]\n"
          ]
        },
        {
          "output_type": "stream",
          "name": "stderr",
          "text": [
            "/usr/local/lib/python3.7/dist-packages/keras_preprocessing/image/utils.py:107: UserWarning: grayscale is deprecated. Please use color_mode = \"grayscale\"\n",
            "  warnings.warn('grayscale is deprecated. Please use '\n"
          ]
        },
        {
          "output_type": "display_data",
          "data": {
            "image/png": "[encoded data removed]",
            "text/plain": [
              "<Figure size 432x288 with 1 Axes>"
            ]
          },
          "metadata": {
            "needs_background": "light"
          }
        }
      ],
      "source": [
        "import tensorflow as tf\n",
        "from tensorflow import keras\n",
        "import matplotlib.pyplot as plt\n",
        "mnistDB=keras.datasets.mnist\n",
        "(x_train,y_train),(x_test,y_test)=mnistDB.load_data()\n",
        "x_train=x_train.reshape((60000,28*28))\n",
        "x_test=x_test.reshape((10000,28*28))\n",
        "x_train=x_train.astype('float32')/255\n",
        "x_test=x_test.astype('float32')/255\n",
        "ML=keras.models.Sequential()\n",
        "ML.add(keras.layers.Dense(units=50,activation='relu',input_shape=x_train.shape[1:]))\n",
        "ML.add(keras.layers.Dense(units=100,activation='relu'))\n",
        "ML.add(keras.layers.Dense(units=70,activation='relu'))\n",
        "ML.add(keras.layers.Dense(units=10,activation='softmax'))\n",
        "ML.summary()\n",
        "ML.compile(loss='sparse_categorical_crossentropy',optimizer='adam',metrics=['accuracy'])\n",
        "ML.fit(x_train,y_train,epochs=1,batch_size=16)\n",
        "test_loss,test_acc=ML.evaluate(x_test,y_test)\n",
        "from keras.preprocessing.image import load_img\n",
        "from keras.preprocessing.image import img_to_array\n",
        "from keras.models import load_model\n",
        "img=load_img('img.png',grayscale=True,target_size=(28,28))\n",
        "plt.imshow(img)\n",
        "img=img_to_array(img)\n",
        "img=img.reshape(1,28*28)\n",
        "#img=img.reshape(28*28,1)\n",
        "img=img.astype('float32')/255.0\n",
        "digit=ML.predict(img)\n",
        "print('digit is ',digit[0])\n"
      ]
    }
  ]
}