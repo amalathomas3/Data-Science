{
  "nbformat": 4,
  "nbformat_minor": 0,
  "metadata": {
    "colab": {
      "name": "perceptron.ipynb",
      "provenance": []
    },
    "kernelspec": {
      "name": "python3",
      "display_name": "Python 3"
    },
    "language_info": {
      "name": "python"
    }
  },
  "cells": [
    {
      "cell_type": "code",
      "execution_count": null,
      "metadata": {
        "colab": {
          "base_uri": "https://localhost:8080/"
        },
        "id": "7xvBQ2eYxArP",
        "outputId": "9805ab8a-57d0-4aff-b309-0958f515ad18"
      },
      "outputs": [
        {
          "output_type": "stream",
          "name": "stdout",
          "text": [
            "['boy' 'boy']\n"
          ]
        }
      ],
      "source": [
        "from sklearn.linear_model import Perceptron\n",
        "x=[[1,0],[1,1],[2,0]]\n",
        "y=[\"boy\",\"girl\",\"boy\"]\n",
        "ML=Perceptron()\n",
        "ML=ML.fit(x,y)\n",
        "result=ML.predict([[1,0],[2,0]])\n",
        "print(result)"
      ]
    },
    {
      "cell_type": "code",
      "source": [
        "from sklearn.neural_network import MLPClassifier\n",
        "x=[[1,0],[1,1],[2,0]]\n",
        "y=[\"boy\",\"girl\",\"boy\"]\n",
        "ML=MLPClassifier(hidden_layer_sizes=(10),activation=\"relu\")\n",
        "ML=ML.fit(x,y)\n",
        "result=ML.predict([[1,0],[1,1]])\n",
        "print(result)"
      ],
      "metadata": {
        "colab": {
          "base_uri": "https://localhost:8080/"
        },
        "id": "2R9cPll4xdJi",
        "outputId": "75ed98d9-e64b-4143-ccc4-3a001a86ce00"
      },
      "execution_count": null,
      "outputs": [
        {
          "output_type": "stream",
          "name": "stdout",
          "text": [
            "['boy' 'girl']\n"
          ]
        },
        {
          "output_type": "stream",
          "name": "stderr",
          "text": [
            "/usr/local/lib/python3.7/dist-packages/sklearn/neural_network/_multilayer_perceptron.py:696: ConvergenceWarning: Stochastic Optimizer: Maximum iterations (200) reached and the optimization hasn't converged yet.\n",
            "  ConvergenceWarning,\n"
          ]
        }
      ]
    }
  ]
}