{
  "nbformat": 4,
  "nbformat_minor": 0,
  "metadata": {
    "colab": {
      "name": "program1.ipynb",
      "provenance": []
    },
    "kernelspec": {
      "name": "python3",
      "display_name": "Python 3"
    },
    "language_info": {
      "name": "python"
    }
  },
  "cells": [
    {
      "cell_type": "code",
      "metadata": {
        "id": "FNXkKakw_i21"
      },
      "source": [
        "from sklearn.neighbors import KNeighborsClassifier\n",
        "from sklearn.model_selection import train_test_split"
      ],
      "execution_count": null,
      "outputs": []
    },
    {
      "cell_type": "code",
      "metadata": {
        "id": "pf0I3RTBcZSC"
      },
      "source": [
        ""
      ],
      "execution_count": null,
      "outputs": []
    },
    {
      "cell_type": "code",
      "metadata": {
        "id": "rR89krxvACJY"
      },
      "source": [
        "from sklearn.datasets import load_digits\n",
        "a=load_digits()\n",
        "X=a.data\n",
        "y=a.target\n",
        "X_train,X_test,y_train,y_test=train_test_split(X,y,test_size=0.30)"
      ],
      "execution_count": null,
      "outputs": []
    },
    {
      "cell_type": "code",
      "metadata": {
        "colab": {
          "base_uri": "https://localhost:8080/"
        },
        "id": "1vxqbaR6DnQf",
        "outputId": "e26a6c16-54eb-4a99-ae70-ca517b3dedff"
      },
      "source": [
        "knn=KNeighborsClassifier(n_neighbors=6)\n",
        "knn.fit(X_train,y_train)"
      ],
      "execution_count": null,
      "outputs": [
        {
          "output_type": "execute_result",
          "data": {
            "text/plain": [
              "KNeighborsClassifier(n_neighbors=6)"
            ]
          },
          "metadata": {},
          "execution_count": 3
        }
      ]
    },
    {
      "cell_type": "code",
      "metadata": {
        "colab": {
          "base_uri": "https://localhost:8080/"
        },
        "id": "vJyh1tEhD5I2",
        "outputId": "908b64b7-b445-4a09-f623-ff95408c1a72"
      },
      "source": [
        "p=(knn.predict(X_test))\n",
        "print(p)"
      ],
      "execution_count": null,
      "outputs": [
        {
          "output_type": "stream",
          "name": "stdout",
          "text": [
            "[8 3 0 1 1 0 5 8 3 2 0 7 8 8 6 6 9 6 6 1 8 9 1 7 9 4 4 8 9 1 9 9 1 6 2 3 9\n",
            " 4 6 1 2 7 3 4 7 9 8 7 5 8 3 7 1 8 2 6 9 2 7 6 9 2 2 7 3 4 8 4 8 1 7 6 4 5\n",
            " 2 4 9 4 1 0 8 5 4 1 0 7 2 7 9 8 2 1 6 6 5 2 8 3 5 5 4 0 1 6 7 0 2 7 4 7 3\n",
            " 8 2 6 7 7 9 5 9 9 1 3 6 8 4 6 1 0 3 1 9 6 0 5 2 3 3 9 8 5 9 5 7 5 9 8 8 7\n",
            " 6 9 1 5 3 5 1 5 4 6 6 9 3 8 3 2 5 0 8 5 1 8 8 4 2 9 9 5 4 7 0 4 4 2 0 1 8\n",
            " 6 3 9 0 6 8 1 0 1 6 2 4 0 4 2 2 8 9 0 4 6 7 7 2 2 3 4 6 1 3 9 1 9 8 1 2 3\n",
            " 0 9 1 4 7 3 6 0 5 4 9 4 1 1 3 8 9 5 8 4 2 8 0 4 5 8 9 0 4 6 4 8 7 6 7 9 0\n",
            " 8 2 8 9 4 7 7 4 9 0 9 4 7 2 3 2 5 3 5 6 6 1 0 1 9 7 7 7 5 5 0 9 3 9 0 5 0\n",
            " 6 8 7 4 8 3 5 1 5 9 1 3 7 2 2 9 6 1 5 3 2 5 1 9 3 7 3 6 2 1 6 6 2 0 0 7 0\n",
            " 4 7 8 4 5 2 8 7 9 7 7 2 0 3 2 4 5 6 0 2 5 3 5 2 3 5 8 2 6 0 8 6 8 7 7 5 9\n",
            " 2 3 1 9 3 5 6 3 4 9 3 7 8 1 8 7 5 8 0 6 1 6 6 9 6 5 0 9 5 1 5 3 3 1 9 0 8\n",
            " 9 5 7 3 5 7 9 6 4 2 5 1 8 4 5 2 3 2 5 9 2 2 2 0 3 5 8 4 9 6 3 1 2 4 6 5 5\n",
            " 5 8 2 8 0 1 6 9 9 4 0 5 6 8 3 0 6 0 8 2 9 9 7 3 7 3 0 5 1 9 3 7 7 4 4 2 6\n",
            " 9 8 9 2 6 7 3 6 0 0 6 7 9 6 1 8 0 6 3 4 2 3 1 4 1 9 1 1 9 5 6 3 0 7 9 0 2\n",
            " 0 7 0 2 6 7 1 4 5 3 2 6 1 4 5 7 9 7 0 6 1 0]\n"
          ]
        }
      ]
    },
    {
      "cell_type": "code",
      "metadata": {
        "colab": {
          "base_uri": "https://localhost:8080/"
        },
        "id": "4DVY6GdeEGgL",
        "outputId": "79ae40d7-1149-4892-fbb4-c22122a9b2f1"
      },
      "source": [
        "from sklearn.metrics import classification_report,confusion_matrix,accuracy_score\n",
        "print(confusion_matrix(y_test,p))\n",
        "print(classification_report(y_test,p))\n",
        "print(accuracy_score(y_test,p))"
      ],
      "execution_count": null,
      "outputs": [
        {
          "output_type": "stream",
          "name": "stdout",
          "text": [
            "[[50  0  0  0  0  0  0  0  0  0]\n",
            " [ 0 50  0  0  0  0  0  0  0  0]\n",
            " [ 0  0 54  0  0  0  0  0  0  0]\n",
            " [ 0  0  0 50  0  0  0  1  0  0]\n",
            " [ 0  1  0  0 48  0  0  1  0  0]\n",
            " [ 0  0  0  0  0 54  1  0  0  1]\n",
            " [ 0  0  0  0  0  0 57  0  1  0]\n",
            " [ 0  0  0  0  0  0  0 52  0  0]\n",
            " [ 0  0  0  1  0  0  0  1 52  0]\n",
            " [ 0  1  0  0  0  1  0  0  0 63]]\n",
            "              precision    recall  f1-score   support\n",
            "\n",
            "           0       1.00      1.00      1.00        50\n",
            "           1       0.96      1.00      0.98        50\n",
            "           2       1.00      1.00      1.00        54\n",
            "           3       0.98      0.98      0.98        51\n",
            "           4       1.00      0.96      0.98        50\n",
            "           5       0.98      0.96      0.97        56\n",
            "           6       0.98      0.98      0.98        58\n",
            "           7       0.95      1.00      0.97        52\n",
            "           8       0.98      0.96      0.97        54\n",
            "           9       0.98      0.97      0.98        65\n",
            "\n",
            "    accuracy                           0.98       540\n",
            "   macro avg       0.98      0.98      0.98       540\n",
            "weighted avg       0.98      0.98      0.98       540\n",
            "\n",
            "0.9814814814814815\n"
          ]
        }
      ]
    },
    {
      "cell_type": "code",
      "metadata": {
        "colab": {
          "base_uri": "https://localhost:8080/"
        },
        "id": "x5Hq9eZ2ca7x",
        "outputId": "92ff1aa2-22c0-4056-a1ae-c7b60259acfa"
      },
      "source": [
        "print(knn.predict(X_test))\n",
        "print(knn.score(X_test,y_test))"
      ],
      "execution_count": null,
      "outputs": [
        {
          "output_type": "stream",
          "name": "stdout",
          "text": [
            "[3 5 6 8 9 0 8 3 5 4 4 6 8 9 4 9 9 7 5 6 3 6 7 8 4 2 3 7 3 5 3 1 7 8 1 1 4\n",
            " 1 2 0 1 8 4 0 9 4 5 9 9 5 1 4 1 9 5 4 6 4 6 4 5 6 7 0 0 6 0 2 0 7 3 3 2 4\n",
            " 4 3 9 0 4 9 0 8 4 3 0 7 6 3 6 1 4 0 5 5 1 2 8 8 4 6 6 0 5 8 1 1 4 2 2 1 2\n",
            " 5 7 4 4 0 2 5 3 1 5 5 1 5 2 3 9 0 7 4 5 9 1 6 8 7 6 6 2 4 7 8 2 3 5 0 4 6\n",
            " 9 5 9 4 5 2 3 3 4 4 9 1 6 4 0 1 1 6 1 5 4 5 3 7 6 8 1 4 7 3 3 1 1 5 3 6 5\n",
            " 0 6 9 0 1 0 9 2 7 7 0 1 8 7 7 0 4 8 2 4 0 7 6 6 4 8 6 3 3 8 4 0 2 2 8 7 9\n",
            " 1 5 9 8 6 0 5 0 3 3 9 5 1 8 5 8 8 2 5 7 6 3 1 7 7 9 0 5 5 3 0 0 7 1 1 5 4\n",
            " 6 0 4 9 9 6 9 2 1 9 7 3 1 4 1 1 8 3 8 0 5 3 0 0 1 2 4 5 0 2 6 1 8 9 6 3 9\n",
            " 2 2 1 5 8 0 4 8 7 9 0 2 7 9 7 2 9 2 3 6 1 6 4 0 4 4 4 6 0 0 9 6 2 4 8 0 3\n",
            " 4 2 2 2 0 0 3 5 8 9 1 3 8 9 2 3 1 7 9 6 5 9 3 3 4 8 2 8 5 6 9 9 3 8 6 8 3\n",
            " 2 2 1 9 4 1 1 8 0 3 1 5 1 7 6 6 8 7 2 1 5 1 5 5 3 1 8 5 3 0 6 0 6 1 2 7 5\n",
            " 0 0 7 4 5 2 0 7 8 0 0 5 9 0 2 3 3 2 1 4 2 2 0 1 7 1 6 2 1 8 4 0 2 7 4 2 3\n",
            " 1 9 5 2 3 8 1 9 1 4 2 8 2 3 0 0 6 5 8 9 9 0 9 6 9 1 9 5 0 2 1 9 9 4 7 3 2\n",
            " 9 7 6 7 0 8 4 8 4 4 7 9 7 1 5 3 5 5 1 0 8 6 7 2 7 2 8 6 9 5 9 1 3 0 1 9 5\n",
            " 7 5 7 9 7 0 4 6 1 6 9 1 1 5 5 0 7 3 1 6 4 1]\n",
            "0.9888888888888889\n"
          ]
        }
      ]
    },
    {
      "cell_type": "code",
      "metadata": {
        "colab": {
          "base_uri": "https://localhost:8080/",
          "height": 280
        },
        "id": "ZKMbKIPtdfx_",
        "outputId": "8e815b83-3734-4e0a-ec1b-03c3fdc8b2cd"
      },
      "source": [
        "\n",
        "#import pandas as pd\n",
        "import numpy as np\n",
        "#import os\n",
        "import matplotlib.pyplot as plt\n",
        "#import seaborn as sns\n",
        "neighbors = np.arange(1, 9)\n",
        "train_accuracy = np.empty(len(neighbors))\n",
        "test_accuracy = np.empty(len(neighbors))\n",
        " \n",
        "# Loop over K values\n",
        "for i, k in enumerate(neighbors):\n",
        "    knn = KNeighborsClassifier(n_neighbors=k)\n",
        "    knn.fit(X_train, y_train)\n",
        "     \n",
        "    # Compute training and test data accuracy\n",
        "    train_accuracy[i] = knn.score(X_train, y_train)\n",
        "    test_accuracy[i] = knn.score(X_test, y_test)\n",
        " \n",
        "# Generate plot\n",
        "plt.plot(neighbors, test_accuracy, label = 'Testing dataset Accuracy')\n",
        "plt.plot(neighbors, train_accuracy, label = 'Training dataset Accuracy')\n",
        " \n",
        "plt.legend()\n",
        "plt.xlabel('n_neighbors')\n",
        "plt.ylabel('Accuracy')\n",
        "plt.show()"
      ],
      "execution_count": null,
      "outputs": [
        {
          "output_type": "display_data",
          "data": {
            "image/png": "[encoded data removed]",
            "text/plain": [
              "<Figure size 432x288 with 1 Axes>"
            ]
          },
          "metadata": {
            "needs_background": "light"
          }
        }
      ]
    }
  ]
}